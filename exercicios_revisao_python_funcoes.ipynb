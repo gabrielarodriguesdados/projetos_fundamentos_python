{
 "cells": [
  {
   "cell_type": "markdown",
   "metadata": {},
   "source": [
    "## Exercícios - Métodos e Funções"
   ]
  },
  {
   "cell_type": "code",
   "execution_count": null,
   "metadata": {},
   "outputs": [],
   "source": [
    "# Exercício 1 - Crie uma função que imprima a sequência de números pares entre 1 e 20 (a função não recebe parâmetro) \n",
    "# e depois faça uma chamada à função para listar os números      "
   ]
  },
  {
   "cell_type": "code",
   "execution_count": 66,
   "metadata": {},
   "outputs": [],
   "source": [
    "def sequencia_num ():\n",
    "    for i in range(2,21,2):\n",
    "        print(i)\n",
    "   "
   ]
  },
  {
   "cell_type": "code",
   "execution_count": 67,
   "metadata": {},
   "outputs": [
    {
     "name": "stdout",
     "output_type": "stream",
     "text": [
      "2\n",
      "4\n",
      "6\n",
      "8\n",
      "10\n",
      "12\n",
      "14\n",
      "16\n",
      "18\n",
      "20\n"
     ]
    }
   ],
   "source": [
    "sequencia_num()"
   ]
  },
  {
   "cell_type": "code",
   "execution_count": null,
   "metadata": {},
   "outputs": [],
   "source": [
    "# Exercício 2 - Crie uma função que receba uma string como argumento e retorne a mesma string em letras maiúsculas.\n",
    "# Faça uma chamada à função, passando como parâmetro uma string"
   ]
  },
  {
   "cell_type": "code",
   "execution_count": 9,
   "metadata": {},
   "outputs": [],
   "source": [
    "def string (texto):\n",
    "    print(texto.upper())\n",
    "    return\n"
   ]
  },
  {
   "cell_type": "code",
   "execution_count": 12,
   "metadata": {},
   "outputs": [
    {
     "name": "stdout",
     "output_type": "stream",
     "text": [
      "COMO VAI VOCÊ\n"
     ]
    }
   ],
   "source": [
    "string('como vai você')"
   ]
  },
  {
   "cell_type": "code",
   "execution_count": null,
   "metadata": {},
   "outputs": [],
   "source": [
    "# Exercício 3 - Crie uma função que receba como parâmetro uma lista de 4 elementos, adicione 2 elementos a lista e \n",
    "# imprima a lista"
   ]
  },
  {
   "cell_type": "code",
   "execution_count": 43,
   "metadata": {},
   "outputs": [
    {
     "name": "stdout",
     "output_type": "stream",
     "text": [
      "None\n",
      "None\n",
      "[1, 2, 3, 4, 5, 6]\n"
     ]
    }
   ],
   "source": [
    "def novaLista(lista):\n",
    "    print(lista.append(5))\n",
    "    print(lista.append(6))\n",
    "   \n",
    "lista1 = [1, 2, 3, 4]   \n",
    "novaLista(lista1)\n",
    "print(lista1)"
   ]
  },
  {
   "cell_type": "code",
   "execution_count": null,
   "metadata": {},
   "outputs": [],
   "source": [
    "# Exercício 4 - Crie uma função que receba um argumento formal e uma possível lista de elementos. Faça duas chamadas \n",
    "# à função, com apenas 1 elemento e na segunda chamada com 4 elementos"
   ]
  },
  {
   "cell_type": "code",
   "execution_count": 50,
   "metadata": {},
   "outputs": [],
   "source": [
    "def funcao (arg1,*lista):\n",
    "    print(arg1)\n",
    "    for i in lista:\n",
    "        print(i)\n",
    "    return;\n",
    "    print(arg1)\n",
    "    "
   ]
  },
  {
   "cell_type": "code",
   "execution_count": 51,
   "metadata": {},
   "outputs": [
    {
     "name": "stdout",
     "output_type": "stream",
     "text": [
      "100\n",
      "['a', 'b', 'c']\n"
     ]
    }
   ],
   "source": [
    "funcao(100,['a','b','c'])"
   ]
  },
  {
   "cell_type": "code",
   "execution_count": null,
   "metadata": {},
   "outputs": [],
   "source": [
    "# Exercício 5 - Crie uma função anônima e atribua seu retorno a uma variável chamada soma. A expressão vai receber 2 \n",
    "# números como parâmetro e retornar a soma deles"
   ]
  },
  {
   "cell_type": "code",
   "execution_count": 57,
   "metadata": {},
   "outputs": [],
   "source": [
    "def anonima(a,b):\n",
    "    soma = a+b\n",
    "    print('soma', soma)\n",
    "    return\n"
   ]
  },
  {
   "cell_type": "code",
   "execution_count": 59,
   "metadata": {},
   "outputs": [
    {
     "name": "stdout",
     "output_type": "stream",
     "text": [
      "soma 750\n"
     ]
    }
   ],
   "source": [
    "anonima(452,298)"
   ]
  },
  {
   "cell_type": "code",
   "execution_count": 60,
   "metadata": {},
   "outputs": [
    {
     "name": "stdout",
     "output_type": "stream",
     "text": [
      "Dentro da função o total é:  30\n",
      "Fora da função o total é:  0\n"
     ]
    }
   ],
   "source": [
    "# Exercício 6 - Execute o código abaixo e certifique-se que compreende a diferença entre variável global e local\n",
    "total = 0\n",
    "def soma( arg1, arg2 ):\n",
    "    total = arg1 + arg2; \n",
    "    print (\"Dentro da função o total é: \", total)\n",
    "    return total;\n",
    "\n",
    "\n",
    "soma( 10, 20 );\n",
    "print (\"Fora da função o total é: \", total)"
   ]
  },
  {
   "cell_type": "code",
   "execution_count": null,
   "metadata": {},
   "outputs": [],
   "source": [
    "# Exercício 7 - Abaixo você encontra uma lista com temperaturas em graus Celsius\n",
    "# Crie uma função anônima que converta cada temperatura para Fahrenheit\n",
    "# Dica: para conseguir realizar este exercício, você deve criar sua função lambda, dentro de uma função \n",
    "# (que será estudada no próximo capítulo). Isso permite aplicar sua função a cada elemento da lista\n",
    "# Como descobrir a fórmula matemática que converte de Celsius para Fahrenheit? Pesquise!!!\n",
    "Celsius = [39.2, 36.5, 37.3, 37.8]\n",
    "Fahrenheit = map(coloque_aqui_sua_função_lambda)\n",
    "print (list(Fahrenheit))"
   ]
  },
  {
   "cell_type": "code",
   "execution_count": 62,
   "metadata": {},
   "outputs": [
    {
     "name": "stdout",
     "output_type": "stream",
     "text": [
      "[102.56, 97.7, 99.14, 100.03999999999999]\n"
     ]
    }
   ],
   "source": [
    "Celsius = [39.2, 36.5, 37.3, 37.8]\n",
    "Fahrenheit = map(lambda c: c * 9/5 + 32, Celsius)\n",
    "print(list(Fahrenheit))"
   ]
  },
  {
   "cell_type": "code",
   "execution_count": null,
   "metadata": {},
   "outputs": [],
   "source": [
    "# Exercício 8 - Crie uma list comprehension que imprima o quadrado dos números de 1 a 10\n",
    "[x**2 for x in range(1,11)]"
   ]
  },
  {
   "cell_type": "code",
   "execution_count": 63,
   "metadata": {},
   "outputs": [
    {
     "name": "stdout",
     "output_type": "stream",
     "text": [
      "[1, 4, 9, 16, 25, 36, 49, 64, 81, 100]\n"
     ]
    }
   ],
   "source": [
    "quadrados = [x**2 for x in range(1, 11)]\n",
    "print(quadrados)"
   ]
  },
  {
   "cell_type": "code",
   "execution_count": null,
   "metadata": {},
   "outputs": [],
   "source": [
    "# Exercício 9 - Crie uma list comprehension que imprima as palavras com a letra a no nome\n",
    "palavras = [\"maça\", \"coiote\", \"banana\", \"terreno\", \"Python\"]\n"
   ]
  },
  {
   "cell_type": "code",
   "execution_count": 64,
   "metadata": {},
   "outputs": [
    {
     "name": "stdout",
     "output_type": "stream",
     "text": [
      "['maça', 'banana']\n"
     ]
    }
   ],
   "source": [
    "palavras = [\"maça\", \"coiote\", \"banana\", \"terreno\", \"Python\"]\n",
    "\n",
    "palavras_com_a = [i for i in palavras if \"a\" in i]\n",
    "\n",
    "print(palavras_com_a)"
   ]
  },
  {
   "cell_type": "code",
   "execution_count": null,
   "metadata": {},
   "outputs": [],
   "source": [
    "# Exercício 10 - Crie uma list comprehension que imprima os números menores que 5 em um intervalo de 1 a 10\n"
   ]
  },
  {
   "cell_type": "code",
   "execution_count": 65,
   "metadata": {},
   "outputs": [
    {
     "name": "stdout",
     "output_type": "stream",
     "text": [
      "[1, 2, 3, 4]\n"
     ]
    }
   ],
   "source": [
    "numeros_menores_que_5 = [x for x in range(1, 11) if x < 5]\n",
    "\n",
    "print(numeros_menores_que_5)"
   ]
  }
 ],
 "metadata": {
  "kernelspec": {
   "display_name": "Python 3 (ipykernel)",
   "language": "python",
   "name": "python3"
  },
  "language_info": {
   "codemirror_mode": {
    "name": "ipython",
    "version": 3
   },
   "file_extension": ".py",
   "mimetype": "text/x-python",
   "name": "python",
   "nbconvert_exporter": "python",
   "pygments_lexer": "ipython3",
   "version": "3.9.13"
  }
 },
 "nbformat": 4,
 "nbformat_minor": 1
}
