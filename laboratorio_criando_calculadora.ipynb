{
 "cells": [
  {
   "cell_type": "code",
   "execution_count": 5,
   "id": "21f862e4",
   "metadata": {},
   "outputs": [
    {
     "name": "stdout",
     "output_type": "stream",
     "text": [
      "\n",
      "******************* Calculadora em Python *******************\n"
     ]
    }
   ],
   "source": [
    "# Calculadora em Python\n",
    "\n",
    "# Desenvolva uma calculadora em Python com tudo que você aprendeu nos capítulos até aqui no curso. \n",
    "# A solução será apresentada no próximo capítulo!\n",
    "\n",
    "print(\"\\n******************* Calculadora em Python *******************\")"
   ]
  },
  {
   "cell_type": "code",
   "execution_count": 6,
   "id": "c5c2fd78",
   "metadata": {},
   "outputs": [],
   "source": [
    "def calculadora():\n",
    "    num_operacao = int(input('Selecione o número da operação desejada 1- adição , 2-subtração, 3- divisão, 4-multiplicação :'))\n",
    "    numero_a = int(input('Digite o numero1: '))\n",
    "    numero_b = int(input('Digite o numero2: '))\n",
    "    if num_operacao == 1:\n",
    "        print('Voce selecionou adição!')\n",
    "        resultado = numero_a+numero_b\n",
    "    elif num_operacao ==2:\n",
    "        print('Voce selecionou subtração!')\n",
    "        resultado = numero_a-numero_b\n",
    "    elif num_operacao ==3:\n",
    "        print('Voce selecionou divisão!')\n",
    "        resultado = numero_a/numero_b\n",
    "    elif num_operacao ==4:\n",
    "        print('Voce selecionou multiplicação!')\n",
    "        resultado = numero_a*numero_b\n",
    "    print('Seu resultado é:', resultado)\n",
    "\n"
   ]
  },
  {
   "cell_type": "code",
   "execution_count": 7,
   "id": "d1d10777",
   "metadata": {},
   "outputs": [
    {
     "name": "stdout",
     "output_type": "stream",
     "text": [
      "Selecione o número da operação desejada 1- adição , 2-subtração, 3- divisão, 4-multiplicação :2\n",
      "Digite o numero1: 20\n",
      "Digite o numero2: 6\n",
      "Voce selecionou subtração!\n",
      "Seu resultado é: 14\n"
     ]
    }
   ],
   "source": [
    "calculadora()"
   ]
  },
  {
   "cell_type": "code",
   "execution_count": null,
   "id": "17311a99",
   "metadata": {},
   "outputs": [],
   "source": []
  }
 ],
 "metadata": {
  "kernelspec": {
   "display_name": "Python 3 (ipykernel)",
   "language": "python",
   "name": "python3"
  },
  "language_info": {
   "codemirror_mode": {
    "name": "ipython",
    "version": 3
   },
   "file_extension": ".py",
   "mimetype": "text/x-python",
   "name": "python",
   "nbconvert_exporter": "python",
   "pygments_lexer": "ipython3",
   "version": "3.9.13"
  }
 },
 "nbformat": 4,
 "nbformat_minor": 5
}
