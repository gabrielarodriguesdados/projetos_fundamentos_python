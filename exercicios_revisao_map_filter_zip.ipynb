{
 "cells": [
  {
   "cell_type": "markdown",
   "metadata": {},
   "source": [
    "## Exercícios "
   ]
  },
  {
   "cell_type": "code",
   "execution_count": 4,
   "metadata": {},
   "outputs": [
    {
     "name": "stdout",
     "output_type": "stream",
     "text": [
      "8\n",
      "125\n",
      "1000\n"
     ]
    }
   ],
   "source": [
    "# Exercício 1 - Crie uma lista de 3 elementos e calcule a terceira potência de cada elemento.\n",
    "lista = [2,5,10]\n",
    "for x in lista:\n",
    "    cubo = x ** 3\n",
    "    print(cubo)"
   ]
  },
  {
   "cell_type": "code",
   "execution_count": 5,
   "metadata": {},
   "outputs": [
    {
     "name": "stdout",
     "output_type": "stream",
     "text": [
      "['A', 'a', 1]\n",
      "['DATA', 'data', 4]\n",
      "['SCIENCE', 'science', 7]\n",
      "['ACADEMY', 'academy', 7]\n",
      "['OFERCE', 'oferce', 6]\n",
      "['OS', 'os', 2]\n",
      "['MELHORES', 'melhores', 8]\n",
      "['CURSOS', 'cursos', 6]\n",
      "['DE', 'de', 2]\n",
      "['ANÁLISE', 'análise', 7]\n",
      "['DE', 'de', 2]\n",
      "['DADOS', 'dados', 5]\n",
      "['DO', 'do', 2]\n",
      "['BRASIL.', 'brasil.', 7]\n"
     ]
    }
   ],
   "source": [
    "# Exercício 2 - Reescreva o código abaixo, usando a função map(). O resultado final deve ser o mesmo!\n",
    "palavras = 'A Data Science Academy oferce os melhores cursos de análise de dados do Brasil.'.split()\n",
    "resultado = [[w.upper(), w.lower(), len(w)] for w in palavras]\n",
    "for i in resultado:\n",
    "    print (i)"
   ]
  },
  {
   "cell_type": "code",
   "execution_count": 8,
   "metadata": {},
   "outputs": [
    {
     "name": "stdout",
     "output_type": "stream",
     "text": [
      "[['A', 'a', 1], ['DATA', 'data', 4], ['SCIENCE', 'science', 7], ['ACADEMY', 'academy', 7], ['OFERCE', 'oferce', 6], ['OS', 'os', 2], ['MELHORES', 'melhores', 8], ['CURSOS', 'cursos', 6], ['DE', 'de', 2], ['ANÁLISE', 'análise', 7], ['DE', 'de', 2], ['DADOS', 'dados', 5], ['DO', 'do', 2], ['BRASIL.', 'brasil.', 7]]\n"
     ]
    }
   ],
   "source": [
    "# Solução\n",
    "palavras = 'A Data Science Academy oferce os melhores cursos de análise de dados do Brasil.'.split()\n",
    "resultado = list(map(lambda w: [w.upper(), w.lower(), len(w)], palavras))\n",
    "print(resultado)\n",
    "\n",
    "# Esse código faz o seguinte: Pega um texto. Separa o texto em palavras.Para cada palavra: \n",
    "#Escreve em MAIÚSCULAS. Escreve em minúsculas. Conta quantas letras tem. \n",
    "#Coloca tudo numa lista e mostra na tela."
   ]
  },
  {
   "cell_type": "code",
   "execution_count": 12,
   "metadata": {},
   "outputs": [
    {
     "name": "stdout",
     "output_type": "stream",
     "text": [
      "Matriz original:\n",
      "[1, 2]\n",
      "[3, 4]\n",
      "[5, 6]\n",
      "[7, 8]\n",
      "\n",
      "Matriz transposta:\n",
      "[1, 3, 5, 7]\n",
      "[2, 4, 6, 8]\n"
     ]
    }
   ],
   "source": [
    "# Exercício 3 - Calcule a matriz transposta da matriz abaixo.\n",
    "# Caso não saiba o que é matriz transposta, visite este link: https://pt.wikipedia.org/wiki/Matriz_transposta\n",
    "# Matriz transposta é um conceito fundamental na construção de redes neurais artificiais, base de sistemas de IA.\n",
    "matrix = [[1, 2],[3,4],[5,6],[7,8]]\n",
    "\n",
    "# Usando zip para transpor\n",
    "transposta = list(map(list, zip(*matrix)))\n",
    "\n",
    "print(\"Matriz original:\")\n",
    "for linha in matrix:\n",
    "    print(linha)\n",
    "\n",
    "print(\"\\nMatriz transposta:\")\n",
    "for linha in transposta:\n",
    "    print(linha)\n",
    "    \n",
    "\n",
    "# - Esse código faz o seguinte:\n",
    "# - Pega uma matriz (várias listas dentro de uma lista).\n",
    "# - Troca as linhas pelas colunas.\n",
    "# - Cada coluna vira uma nova linha.\n",
    "# - Cria uma nova matriz com esses valores trocados.\n",
    "# - Mostra essa matriz transposta na tela."
   ]
  },
  {
   "cell_type": "code",
   "execution_count": 23,
   "metadata": {},
   "outputs": [
    {
     "name": "stdout",
     "output_type": "stream",
     "text": [
      "[(0, 0), (1, 1), (4, 8), (9, 27), (16, 64)]\n"
     ]
    }
   ],
   "source": [
    "# Exercício 4 - Crie duas funções, uma para elevar um número ao quadrado e outra para elevar ao cubo. \n",
    "# Aplique as duas funções aos elementos da lista abaixo. \n",
    "# Obs: as duas funções devem ser aplicadas simultaneamente.\n",
    "lista = [0, 1, 2, 3, 4]\n",
    "\n",
    "def quadrado(a):\n",
    "    return a ** 2\n",
    "\n",
    "def cubo(b):\n",
    "    return b ** 3\n",
    "\n",
    "def quadrado_e_cubo(x):\n",
    "    return (quadrado(x), cubo(x))\n",
    "\n",
    "resultado = list(map(quadrado_e_cubo, lista))\n",
    "\n",
    "print(resultado)\n",
    "\n",
    "\n",
    "# Pega uma lista de números.\n",
    "# Para cada número, calcula o quadrado (número vezes ele mesmo).\n",
    "# Para o mesmo número, calcula o cubo (número vezes ele mesmo três vezes).\n",
    "# Junta esses dois resultados (quadrado e cubo) em um par.\n",
    "# Faz isso para todos os números da lista.\n",
    "# Mostra uma lista com esses pares (quadrado, cubo) para cada número."
   ]
  },
  {
   "cell_type": "code",
   "execution_count": 34,
   "metadata": {},
   "outputs": [
    {
     "name": "stdout",
     "output_type": "stream",
     "text": [
      "[1024, 177147, 16777216]\n"
     ]
    }
   ],
   "source": [
    "# Exercício 5 - Abaixo você encontra duas listas. Faça com que cada elemento da listaA seja elevado \n",
    "# ao elemento correspondente na listaB.\n",
    "listaA = [2, 3, 4]\n",
    "listaB = [10, 11, 12]\n",
    "\n",
    "resultados = []\n",
    "\n",
    "for x in range(len(listaA)):\n",
    "    resultado = listaA[x] ** listaB[x]\n",
    "    resultados.append(resultado)\n",
    "\n",
    "print(resultados)\n",
    "\n",
    "\n",
    "# - range(len(listaA)) cria uma sequência de números de 0 até o tamanho da lista.\n",
    "# - Para cada posição, pega o número da listaA e o número da listaB.\n",
    "# - Eleva o da listaA pelo da listaB.\n",
    "# - Guarda o resultado numa lista nova.\n",
    "# - No final, mostra a lista com todos os resultados.\n"
   ]
  },
  {
   "cell_type": "code",
   "execution_count": 1,
   "metadata": {},
   "outputs": [
    {
     "name": "stdout",
     "output_type": "stream",
     "text": [
      "[-5, -4, -3, -2, -1]\n"
     ]
    }
   ],
   "source": [
    "# Exercício 6 - Considerando o range de valores abaixo, use a função filter() para retornar \n",
    "# apenas os valores negativos.range(-5, 5)\n",
    "\n",
    "def negativo(x):\n",
    "  return x < 0\n",
    "\n",
    "numeros = list(range(-5, 5))\n",
    "\n",
    "negativos = list(filter(negativo, numeros))\n",
    "\n",
    "print(negativos)"
   ]
  },
  {
   "cell_type": "code",
   "execution_count": 30,
   "metadata": {},
   "outputs": [
    {
     "name": "stdout",
     "output_type": "stream",
     "text": [
      "[2, 3, 5, 7]\n"
     ]
    }
   ],
   "source": [
    "# Exercício 7 - Usando a função filter(), encontre os valores que são comuns às duas listas abaixo.\n",
    "a = [1,2,3,5,7,9]\n",
    "b = [2,3,5,6,7,8]\n",
    "\n",
    "\n",
    "valores_comuns = list(filter(lambda x: x in b, a))\n",
    "print(valores_comuns)\n"
   ]
  },
  {
   "cell_type": "code",
   "execution_count": 31,
   "metadata": {},
   "outputs": [
    {
     "name": "stdout",
     "output_type": "stream",
     "text": [
      "{'a': 4, 'b': 5}\n"
     ]
    }
   ],
   "source": [
    "# Exercício 8 - Considere os dois dicionários abaixo. \n",
    "# Crie um terceiro dicionário com as chaves do dicionário 1 e os valores do dicionário 2.\n",
    "dict1 = {'a':1,'b':2}\n",
    "dict2 = {'c':4,'d':5}\n",
    "\n",
    "\n",
    "# ✅ DICA:\n",
    "# 1. Pegue as chaves do dict1 → list(dict1.keys())\n",
    "# 2. Pegue os valores do dict2 → list(dict2.values())\n",
    "# 3. Junte os dois usando zip()\n",
    "# 4. Transforme em dicionário com dict()\n",
    "\n",
    "\n",
    "chaves = list(dict1.keys())   \n",
    "\n",
    "valores = list(dict2.values()) \n",
    "\n",
    "novo_dict = dict(zip(chaves, valores))\n",
    "\n",
    "print(novo_dict) "
   ]
  },
  {
   "cell_type": "code",
   "execution_count": 32,
   "metadata": {},
   "outputs": [
    {
     "name": "stdout",
     "output_type": "stream",
     "text": [
      "['g', 'h']\n"
     ]
    }
   ],
   "source": [
    "# Exercício 9 - Considere a lista abaixo e retorne apenas os elementos cujo índice for maior que 5.\n",
    "lista = ['a', 'b', 'c', 'd', 'e', 'f', 'g', 'h']\n",
    "\n",
    "# ✅ DICA:\n",
    "# Queremos só os elementos com índice maior que 5\n",
    "# Podemos usar fatiamento da lista: lista[início:]\n",
    "\n",
    "resultado = lista[6:] \n",
    "\n",
    "print(resultado)\n",
    "\n"
   ]
  },
  {
   "cell_type": "code",
   "execution_count": 33,
   "metadata": {},
   "outputs": [
    {
     "name": "stdout",
     "output_type": "stream",
     "text": [
      "g\n",
      "h\n"
     ]
    }
   ],
   "source": [
    "###outra forma de resolver o exercicio 9 seria:\n",
    "lista = ['a', 'b', 'c', 'd', 'e', 'f', 'g', 'h']\n",
    "for indice, valor in enumerate(lista):\n",
    "    if indice <= 5:\n",
    "        continue\n",
    "    else:\n",
    "        print (valor)"
   ]
  },
  {
   "cell_type": "code",
   "execution_count": 34,
   "metadata": {},
   "outputs": [
    {
     "name": "stdout",
     "output_type": "stream",
     "text": [
      "A palavra após 'Data Science' é: Academy\n"
     ]
    }
   ],
   "source": [
    "# Exercício 10 - Crie um regex em Python para extrair a palavra que aparece depois das palavras \n",
    "# Data e Science na frase: 'A Data Science Academy oferce os melhores cursos de análise de dados do Brasil.'\n",
    "import re\n",
    "texto = 'A Data Science Academy oferece os melhores cursos de análise de dados do Brasil.'\n",
    "resultado = re.findall(r'Data Science (\\w+)', texto)\n",
    "print(\"A palavra após 'Data Science' é:\", resultado[0])\n"
   ]
  }
 ],
 "metadata": {
  "kernelspec": {
   "display_name": "Python 3 (ipykernel)",
   "language": "python",
   "name": "python3"
  },
  "language_info": {
   "codemirror_mode": {
    "name": "ipython",
    "version": 3
   },
   "file_extension": ".py",
   "mimetype": "text/x-python",
   "name": "python",
   "nbconvert_exporter": "python",
   "pygments_lexer": "ipython3",
   "version": "3.9.13"
  }
 },
 "nbformat": 4,
 "nbformat_minor": 1
}
