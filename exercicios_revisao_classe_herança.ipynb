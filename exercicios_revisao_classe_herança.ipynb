{
 "cells": [
  {
   "cell_type": "markdown",
   "metadata": {},
   "source": [
    "## Exercícios"
   ]
  },
  {
   "cell_type": "code",
   "execution_count": 7,
   "metadata": {},
   "outputs": [
    {
     "name": "stdout",
     "output_type": "stream",
     "text": [
      "posição inicial\n",
      "x: 10\n",
      "y: 20\n",
      "nova posição, após mover:\n",
      "10 20\n"
     ]
    }
   ],
   "source": [
    "# Exercício 1 - Crie um objeto a partir da classe abaixo, chamado roc1, \n",
    "# passando 2 parâmetros e depois faça uma chamada aos atributos e métodos\n",
    "from math import sqrt\n",
    "\n",
    "class Rocket():\n",
    "     \n",
    "    def __init__(self, x=0, y=0):\n",
    "        self.x = x\n",
    "        self.y = y\n",
    "        \n",
    "    def move_rocket(self, x_increment=0, y_increment=1):\n",
    "        self.x += x_increment\n",
    "        self.y += y_increment\n",
    "        \n",
    "    def print_rocket(self):\n",
    "        print(self.x, self.y)\n",
    "        \n",
    "\n",
    "roc1 = Rocket(10, 20)\n",
    "\n",
    "print(\"posição inicial\")\n",
    "print(\"x:\",roc1.x)\n",
    "print(\"y:\",roc1.y)\n",
    "\n",
    "\n",
    "print(\"nova posição, após mover:\")\n",
    "roc1.print_rocket()\n",
    "        "
   ]
  },
  {
   "cell_type": "code",
   "execution_count": 16,
   "metadata": {},
   "outputs": [
    {
     "name": "stdout",
     "output_type": "stream",
     "text": [
      "Olá, meu nome é:Gabriela , e moro em Patrocínio.\n",
      "Meu contato é: 3499531821\n"
     ]
    }
   ],
   "source": [
    "# Exercício 2 - Crie uma classe chamada Pessoa() com os atributos: nome, cidade, telefone e e-mail. Use pelo menos 2\n",
    "# métodos especiais na sua classe. Crie um objeto da sua classe e faça uma chamada a pelo menos um dos seus métodos\n",
    "# especiais.\n",
    "\n",
    "\n",
    "class Pessoa:\n",
    "    def __init__(self, nome, cidade, telefone , email):\n",
    "        self.nome = nome\n",
    "        self.cidade = cidade\n",
    "        self.telefone = telefone\n",
    "        self.email = email\n",
    "    def apresentar(self):\n",
    "        print(f\"Olá, meu nome é:{self.nome} , e moro em {self.cidade}.\")\n",
    "    def contato(self):\n",
    "        print(f\"Meu contato é: {self.telefone}\")\n",
    "        \n",
    "pessoa1 = Pessoa(\"Gabriela\",\"Patrocínio\",\"3499531821\",\"gabriela@dev.com\")\n",
    "\n",
    "pessoa1.apresentar()\n",
    "\n",
    "pessoa1.contato()\n",
    "        "
   ]
  },
  {
   "cell_type": "code",
   "execution_count": 24,
   "metadata": {},
   "outputs": [
    {
     "name": "stdout",
     "output_type": "stream",
     "text": [
      "O Smartphone tem o tamanho: 2.5, interface: grafica e capacidade de MP3: 32 GB.\n"
     ]
    }
   ],
   "source": [
    "# Exercício 3 - Crie a classe Smartphone com 2 atributos, tamanho e interface e crie a classe MP3Player com os \n",
    "# atributos capacidade. A classe MP3player deve herdar os atributos da classe Smartphone.\n",
    "\n",
    "class Smartphone:\n",
    "    def __init__(self,tamanho , interface):\n",
    "        self.tamanho = tamanho\n",
    "        self.interface = interface\n",
    "        \n",
    "class MP3Player(Smartphone):\n",
    "    def __init__(self,tamanho , interface , capacidade):\n",
    "        super().__init__(tamanho , interface)\n",
    "        self.capacidade = capacidade\n",
    "    \n",
    "    def mostrar_dados(self):\n",
    "        print(f\"O Smartphone tem o tamanho: {self.tamanho}, interface: {self.interface} e capacidade de MP3: {self.capacidade} GB.\")\n",
    "    \n",
    "mp3 = MP3Player(2.5 , \"grafica\" , 32)\n",
    "mp3.mostrar_dados()"
   ]
  }
 ],
 "metadata": {
  "kernelspec": {
   "display_name": "Python 3 (ipykernel)",
   "language": "python",
   "name": "python3"
  },
  "language_info": {
   "codemirror_mode": {
    "name": "ipython",
    "version": 3
   },
   "file_extension": ".py",
   "mimetype": "text/x-python",
   "name": "python",
   "nbconvert_exporter": "python",
   "pygments_lexer": "ipython3",
   "version": "3.9.13"
  }
 },
 "nbformat": 4,
 "nbformat_minor": 1
}
